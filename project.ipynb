{
 "cells": [
  {
   "cell_type": "markdown",
   "metadata": {},
   "source": [
    "# **Importing the Libraries**"
   ]
  },
  {
   "cell_type": "code",
   "execution_count": 22,
   "metadata": {},
   "outputs": [],
   "source": [
    "import cv2\n",
    "import numpy as np"
   ]
  },
  {
   "cell_type": "markdown",
   "metadata": {},
   "source": [
    "# **Loading the video and background Image**"
   ]
  },
  {
   "cell_type": "code",
   "execution_count": 34,
   "metadata": {},
   "outputs": [],
   "source": [
    "video = cv2.VideoCapture('video.mp4')\n",
    "image = cv2.imread('Image.jpg')\n"
   ]
  },
  {
   "cell_type": "code",
   "execution_count": 35,
   "metadata": {},
   "outputs": [],
   "source": [
    "while True:\n",
    "    ret, frame = video.read()\n",
    "    image = cv2.resize(image, (1280,720))\n",
    "    hsv = cv2.cvtColor(frame, cv2.COLOR_BGR2HSV)\n",
    "    \n",
    "    #Setting the color of green to remove that\n",
    "    l_g = np.array([32,94,132])\n",
    "    u_g = np.array([179,255,255])\n",
    "    \n",
    "    mask= cv2.inRange(hsv, l_g, u_g)\n",
    "    res = cv2.bitwise_and(frame, frame, mask=mask)\n",
    "    \n",
    "    f= frame-res\n",
    "    green_sc = np.where(f==0, image, f)\n",
    "    \n",
    "    cv2.imshow('Final', green_sc)\n",
    "    \n",
    "    k = cv2.waitKey(1)\n",
    "    if k==ord('q'):\n",
    "        break\n",
    "video.release()\n",
    "cv2.destroyAllWindows()"
   ]
  },
  {
   "cell_type": "code",
   "execution_count": null,
   "metadata": {},
   "outputs": [],
   "source": []
  }
 ],
 "metadata": {
  "kernelspec": {
   "display_name": "Python (system)",
   "language": "python",
   "name": "python3"
  },
  "language_info": {
   "codemirror_mode": {
    "name": "ipython",
    "version": 3
   },
   "file_extension": ".py",
   "mimetype": "text/x-python",
   "name": "python",
   "nbconvert_exporter": "python",
   "pygments_lexer": "ipython3",
   "version": "3.10.0"
  },
  "orig_nbformat": 4,
  "vscode": {
   "interpreter": {
    "hash": "601e5f63d6f69c4e07f4c15b2ec3eeafb329b5e6d66ce75f234d424bb8a3af72"
   }
  }
 },
 "nbformat": 4,
 "nbformat_minor": 2
}
